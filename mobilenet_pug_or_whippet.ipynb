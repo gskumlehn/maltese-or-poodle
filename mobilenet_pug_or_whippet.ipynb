{
  "cells": [
    {
      "cell_type": "markdown",
      "metadata": {
        "id": "view-in-github",
        "colab_type": "text"
      },
      "source": [
        "<a href=\"https://colab.research.google.com/github/gskumlehn/maltese-or-poodle/blob/main/mobilenet_pug_or_whippet.ipynb\" target=\"_parent\"><img src=\"https://colab.research.google.com/assets/colab-badge.svg\" alt=\"Open In Colab\"/></a>"
      ]
    },
    {
      "cell_type": "markdown",
      "metadata": {
        "id": "Nr33oWQ_OwZ_"
      },
      "source": [
        "\n",
        "Updates database from github repository"
      ]
    },
    {
      "cell_type": "code",
      "execution_count": 1,
      "metadata": {
        "colab": {
          "base_uri": "https://localhost:8080/"
        },
        "id": "6-zM04CJVzy1",
        "outputId": "725553a0-1735-4ae9-a01f-660ee153b28d"
      },
      "outputs": [
        {
          "output_type": "stream",
          "name": "stdout",
          "text": [
            "Cloning into 'maltese-or-poodle'...\n",
            "remote: Enumerating objects: 1011, done.\u001b[K\n",
            "remote: Counting objects: 100% (1011/1011), done.\u001b[K\n",
            "remote: Compressing objects: 100% (1007/1007), done.\u001b[K\n",
            "remote: Total 1011 (delta 25), reused 970 (delta 3), pack-reused 0 (from 0)\u001b[K\n",
            "Receiving objects: 100% (1011/1011), 32.24 MiB | 11.48 MiB/s, done.\n",
            "Resolving deltas: 100% (25/25), done.\n"
          ]
        }
      ],
      "source": [
        "!rm -rf maltese-or-poodle\n",
        "!git clone https://github.com/gskumlehn/maltese-or-poodle.git"
      ]
    },
    {
      "cell_type": "markdown",
      "metadata": {
        "id": "MjAN0u3ePKE6"
      },
      "source": [
        "Creates two MobileNet models that share the same architecture and pre-trained weights but operate on different input layers:\n",
        "\n",
        "model: Processes raw/original input data.\n",
        "\n",
        "augmented_data_model: Processes augmented versions of the input data."
      ]
    },
    {
      "cell_type": "code",
      "execution_count": 2,
      "metadata": {
        "colab": {
          "base_uri": "https://localhost:8080/"
        },
        "id": "k2OmmDFVOgdJ",
        "outputId": "b455a7e5-ba4f-418d-b165-64fd1d1d81e1"
      },
      "outputs": [
        {
          "output_type": "stream",
          "name": "stderr",
          "text": [
            "<ipython-input-2-145d36900d23>:4: UserWarning: `input_shape` is undefined or non-square, or `rows` is not in [128, 160, 192, 224]. Weights for input shape (224, 224) will be loaded as the default.\n",
            "  model=MobileNet(weights='imagenet', include_top=False)\n"
          ]
        },
        {
          "output_type": "stream",
          "name": "stdout",
          "text": [
            "Downloading data from https://storage.googleapis.com/tensorflow/keras-applications/mobilenet/mobilenet_1_0_224_tf_no_top.h5\n",
            "\u001b[1m17225924/17225924\u001b[0m \u001b[32m━━━━━━━━━━━━━━━━━━━━\u001b[0m\u001b[37m\u001b[0m \u001b[1m0s\u001b[0m 0us/step\n"
          ]
        },
        {
          "output_type": "stream",
          "name": "stderr",
          "text": [
            "<ipython-input-2-145d36900d23>:5: UserWarning: `input_shape` is undefined or non-square, or `rows` is not in [128, 160, 192, 224]. Weights for input shape (224, 224) will be loaded as the default.\n",
            "  augmented_data_model=MobileNet(weights='imagenet', include_top=False)\n"
          ]
        }
      ],
      "source": [
        "import keras\n",
        "from keras.applications import MobileNet\n",
        "\n",
        "model=MobileNet(weights='imagenet', include_top=False)\n",
        "augmented_data_model=MobileNet(weights='imagenet', include_top=False)"
      ]
    },
    {
      "cell_type": "markdown",
      "metadata": {
        "id": "Ta4OlNGNPhC0"
      },
      "source": [
        "Global average pooling is applied to extract compact feature vectors from the outputs of both the original data model and the augmented data model."
      ]
    },
    {
      "cell_type": "code",
      "execution_count": 3,
      "metadata": {
        "id": "i-72-d2DOlnE"
      },
      "outputs": [],
      "source": [
        "from keras.layers import GlobalAveragePooling2D\n",
        "\n",
        "x=model.output\n",
        "x=GlobalAveragePooling2D()(x)\n",
        "\n",
        "augmented_data_x=augmented_data_model.output\n",
        "augmented_data_x=GlobalAveragePooling2D()(augmented_data_x)"
      ]
    },
    {
      "cell_type": "markdown",
      "metadata": {
        "id": "8CfGOJEZPwCH"
      },
      "source": [
        "Creates two separate models for processing original and augmented data, with dense layers added for classification"
      ]
    },
    {
      "cell_type": "code",
      "execution_count": 4,
      "metadata": {
        "id": "CUIXMFtAOrGf"
      },
      "outputs": [],
      "source": [
        "from keras.models import Model\n",
        "from keras.layers import Dense\n",
        "\n",
        "x=Dense(50, activation='relu')(x)\n",
        "preds=Dense(1, activation='sigmoid')(x)\n",
        "\n",
        "augmented_data_x=Dense(50, activation='relu')(augmented_data_x)\n",
        "augmented_data_preds=Dense(1, activation='sigmoid')(augmented_data_x)\n",
        "\n",
        "model=Model(inputs=model.input, outputs=preds)\n",
        "augmented_data_model=Model(inputs=augmented_data_model.input, outputs=augmented_data_preds)"
      ]
    },
    {
      "cell_type": "markdown",
      "metadata": {
        "id": "z08XsEa0P0Eo"
      },
      "source": [
        "Counts layers that have already been trained and set only new ones for training"
      ]
    },
    {
      "cell_type": "code",
      "execution_count": 5,
      "metadata": {
        "id": "w2YklC8iQAS4"
      },
      "outputs": [],
      "source": [
        "not_trainable_layer_count = len(model.layers) -1\n",
        "\n",
        "for layer in model.layers[:not_trainable_layer_count]:\n",
        "    layer.trainable=False\n",
        "for layer in model.layers[not_trainable_layer_count:]:\n",
        "    layer.trainable=True\n",
        "\n",
        "for layer in augmented_data_model.layers[:not_trainable_layer_count]:\n",
        "    layer.trainable=False\n",
        "for layer in augmented_data_model.layers[not_trainable_layer_count:]:\n",
        "    layer.trainable=True"
      ]
    },
    {
      "cell_type": "markdown",
      "metadata": {
        "id": "2cNRRM_vQOCH"
      },
      "source": [
        "The dataset directory, target image size, and batch size are defined for preparing and processing image data in TensorFlow."
      ]
    },
    {
      "cell_type": "code",
      "execution_count": 6,
      "metadata": {
        "id": "sIsc5hewQb5p"
      },
      "outputs": [],
      "source": [
        "import tensorflow as tf\n",
        "\n",
        "base_dir = \"/content/maltese-or-poodle/classes2\"\n",
        "image_size = (224, 224)\n",
        "batch_size = 32"
      ]
    },
    {
      "cell_type": "markdown",
      "metadata": {
        "id": "mnPnTDBSQZkA"
      },
      "source": [
        "The code loads and splits image data from base_dir into training (80%) and validation (20%) datasets, resizing images and batching them. It also retrieves and prints the class names for reference."
      ]
    },
    {
      "cell_type": "code",
      "execution_count": 7,
      "metadata": {
        "colab": {
          "base_uri": "https://localhost:8080/"
        },
        "id": "mBl1d0o2TnWl",
        "outputId": "cb03d4dc-cc34-4fef-a263-437c039568fc"
      },
      "outputs": [
        {
          "output_type": "stream",
          "name": "stdout",
          "text": [
            "Found 387 files belonging to 2 classes.\n",
            "Using 310 files for training.\n",
            "Found 387 files belonging to 2 classes.\n",
            "Using 77 files for validation.\n",
            "Classes: ['pug', 'whippet']\n"
          ]
        }
      ],
      "source": [
        "train_dataset = tf.keras.utils.image_dataset_from_directory(\n",
        "    base_dir,\n",
        "    validation_split=0.2,\n",
        "    subset=\"training\",\n",
        "    seed=123,\n",
        "    image_size=image_size,\n",
        "    batch_size=batch_size\n",
        ")\n",
        "\n",
        "test_dataset = tf.keras.utils.image_dataset_from_directory(\n",
        "    base_dir,\n",
        "    validation_split=0.2,\n",
        "    subset=\"validation\",\n",
        "    seed=123,\n",
        "    image_size=image_size,\n",
        "    batch_size=batch_size\n",
        ")\n",
        "\n",
        "class_names = train_dataset.class_names\n",
        "print(\"Classes:\", class_names)"
      ]
    },
    {
      "cell_type": "markdown",
      "metadata": {
        "id": "z5WU1fSJQpJk"
      },
      "source": [
        "Sets up a pipeline for augmenting and normalizing images in the training dataset and normalizing the test dataset. This improves generalization during training and ensures consistent input scaling."
      ]
    },
    {
      "cell_type": "code",
      "execution_count": 8,
      "metadata": {
        "id": "QVaC122tT80P"
      },
      "outputs": [],
      "source": [
        "from keras.layers import RandomFlip, RandomRotation, RandomZoom, Rescaling\n",
        "from keras.models import Sequential\n",
        "\n",
        "data_augmentation = Sequential([\n",
        "    RandomFlip(\"horizontal\"),\n",
        "    RandomRotation(0.2),\n",
        "    RandomZoom(0.2),\n",
        "])\n",
        "\n",
        "normalization_layer = Rescaling(1./255)\n",
        "\n",
        "augmented_train_dataset = train_dataset.map(lambda x, y: (data_augmentation(normalization_layer(x)), y))\n",
        "augmented_test_dataset = test_dataset.map(lambda x, y: (normalization_layer(x), y))"
      ]
    },
    {
      "cell_type": "markdown",
      "metadata": {
        "id": "fGz8UPQhQ2dB"
      },
      "source": [
        " Optimizes data pipelines by enabling prefetching, allowing data loading and preprocessing to run concurrently with model training or evaluation, improving computational efficiency."
      ]
    },
    {
      "cell_type": "code",
      "execution_count": 9,
      "metadata": {
        "id": "wp2x7YT1UBuc"
      },
      "outputs": [],
      "source": [
        "AUTOTUNE = tf.data.AUTOTUNE\n",
        "train_dataset = train_dataset.prefetch(buffer_size=AUTOTUNE)\n",
        "test_dataset = test_dataset.prefetch(buffer_size=AUTOTUNE)\n",
        "augmented_train_dataset = augmented_train_dataset.prefetch(buffer_size=AUTOTUNE)\n",
        "augmented_test_dataset = augmented_test_dataset.prefetch(buffer_size=AUTOTUNE)"
      ]
    },
    {
      "cell_type": "markdown",
      "metadata": {
        "id": "U5KrCXXcQ_OD"
      },
      "source": [
        " Bompiles both the original and augmented data models with the Adam optimizer, binary cross-entropy loss, and accuracy as the evaluation metric."
      ]
    },
    {
      "cell_type": "code",
      "execution_count": 10,
      "metadata": {
        "id": "DDhHjRaaUG0L"
      },
      "outputs": [],
      "source": [
        "from keras.optimizers import Adam\n",
        "\n",
        "model.compile(optimizer=Adam(learning_rate=0.0001),loss='binary_crossentropy',metrics=['accuracy'])\n",
        "augmented_data_model.compile(optimizer=Adam(learning_rate=0.0001),loss='binary_crossentropy',metrics=['accuracy'])"
      ]
    },
    {
      "cell_type": "markdown",
      "metadata": {
        "id": "wSKyb7MQRC19"
      },
      "source": [
        "Sets epochs"
      ]
    },
    {
      "cell_type": "code",
      "execution_count": 11,
      "metadata": {
        "id": "PraQ5uh6DShm"
      },
      "outputs": [],
      "source": [
        "epochs=70"
      ]
    },
    {
      "cell_type": "markdown",
      "metadata": {
        "id": "WiR0oeTcRL5N"
      },
      "source": [
        " Trains the models using the training dataset for a specified number of epochs and evaluates it using the validation dataset after each epoch to monitor its performance."
      ]
    },
    {
      "cell_type": "code",
      "execution_count": 12,
      "metadata": {
        "colab": {
          "base_uri": "https://localhost:8080/"
        },
        "id": "mLx36wz4UR0C",
        "outputId": "c83e7484-6a47-4519-cecc-da853047b6b9"
      },
      "outputs": [
        {
          "output_type": "stream",
          "name": "stdout",
          "text": [
            "Epoch 1/70\n",
            "\u001b[1m10/10\u001b[0m \u001b[32m━━━━━━━━━━━━━━━━━━━━\u001b[0m\u001b[37m\u001b[0m \u001b[1m25s\u001b[0m 2s/step - accuracy: 0.5007 - loss: 1.1089 - val_accuracy: 0.5065 - val_loss: 1.0448\n",
            "Epoch 2/70\n",
            "\u001b[1m10/10\u001b[0m \u001b[32m━━━━━━━━━━━━━━━━━━━━\u001b[0m\u001b[37m\u001b[0m \u001b[1m17s\u001b[0m 2s/step - accuracy: 0.5335 - loss: 1.0356 - val_accuracy: 0.5065 - val_loss: 1.0338\n",
            "Epoch 3/70\n",
            "\u001b[1m10/10\u001b[0m \u001b[32m━━━━━━━━━━━━━━━━━━━━\u001b[0m\u001b[37m\u001b[0m \u001b[1m16s\u001b[0m 2s/step - accuracy: 0.5239 - loss: 1.0266 - val_accuracy: 0.5065 - val_loss: 1.0229\n",
            "Epoch 4/70\n",
            "\u001b[1m10/10\u001b[0m \u001b[32m━━━━━━━━━━━━━━━━━━━━\u001b[0m\u001b[37m\u001b[0m \u001b[1m20s\u001b[0m 2s/step - accuracy: 0.5260 - loss: 1.0463 - val_accuracy: 0.5065 - val_loss: 1.0121\n",
            "Epoch 5/70\n",
            "\u001b[1m10/10\u001b[0m \u001b[32m━━━━━━━━━━━━━━━━━━━━\u001b[0m\u001b[37m\u001b[0m \u001b[1m24s\u001b[0m 2s/step - accuracy: 0.5443 - loss: 1.0195 - val_accuracy: 0.5065 - val_loss: 1.0015\n",
            "Epoch 6/70\n",
            "\u001b[1m10/10\u001b[0m \u001b[32m━━━━━━━━━━━━━━━━━━━━\u001b[0m\u001b[37m\u001b[0m \u001b[1m18s\u001b[0m 2s/step - accuracy: 0.5153 - loss: 1.0139 - val_accuracy: 0.5065 - val_loss: 0.9912\n",
            "Epoch 7/70\n",
            "\u001b[1m10/10\u001b[0m \u001b[32m━━━━━━━━━━━━━━━━━━━━\u001b[0m\u001b[37m\u001b[0m \u001b[1m22s\u001b[0m 2s/step - accuracy: 0.5304 - loss: 0.9860 - val_accuracy: 0.5065 - val_loss: 0.9813\n",
            "Epoch 8/70\n",
            "\u001b[1m10/10\u001b[0m \u001b[32m━━━━━━━━━━━━━━━━━━━━\u001b[0m\u001b[37m\u001b[0m \u001b[1m18s\u001b[0m 2s/step - accuracy: 0.5252 - loss: 1.0041 - val_accuracy: 0.5065 - val_loss: 0.9714\n",
            "Epoch 9/70\n",
            "\u001b[1m10/10\u001b[0m \u001b[32m━━━━━━━━━━━━━━━━━━━━\u001b[0m\u001b[37m\u001b[0m \u001b[1m21s\u001b[0m 2s/step - accuracy: 0.5510 - loss: 0.9272 - val_accuracy: 0.5065 - val_loss: 0.9619\n",
            "Epoch 10/70\n",
            "\u001b[1m10/10\u001b[0m \u001b[32m━━━━━━━━━━━━━━━━━━━━\u001b[0m\u001b[37m\u001b[0m \u001b[1m21s\u001b[0m 2s/step - accuracy: 0.5182 - loss: 0.9816 - val_accuracy: 0.5065 - val_loss: 0.9525\n",
            "Epoch 11/70\n",
            "\u001b[1m10/10\u001b[0m \u001b[32m━━━━━━━━━━━━━━━━━━━━\u001b[0m\u001b[37m\u001b[0m \u001b[1m21s\u001b[0m 2s/step - accuracy: 0.4941 - loss: 1.0090 - val_accuracy: 0.5065 - val_loss: 0.9432\n",
            "Epoch 12/70\n",
            "\u001b[1m10/10\u001b[0m \u001b[32m━━━━━━━━━━━━━━━━━━━━\u001b[0m\u001b[37m\u001b[0m \u001b[1m20s\u001b[0m 2s/step - accuracy: 0.5050 - loss: 0.9628 - val_accuracy: 0.5065 - val_loss: 0.9344\n",
            "Epoch 13/70\n",
            "\u001b[1m10/10\u001b[0m \u001b[32m━━━━━━━━━━━━━━━━━━━━\u001b[0m\u001b[37m\u001b[0m \u001b[1m23s\u001b[0m 2s/step - accuracy: 0.5296 - loss: 0.9445 - val_accuracy: 0.5065 - val_loss: 0.9256\n",
            "Epoch 14/70\n",
            "\u001b[1m10/10\u001b[0m \u001b[32m━━━━━━━━━━━━━━━━━━━━\u001b[0m\u001b[37m\u001b[0m \u001b[1m19s\u001b[0m 2s/step - accuracy: 0.5055 - loss: 0.9362 - val_accuracy: 0.5065 - val_loss: 0.9170\n",
            "Epoch 15/70\n",
            "\u001b[1m10/10\u001b[0m \u001b[32m━━━━━━━━━━━━━━━━━━━━\u001b[0m\u001b[37m\u001b[0m \u001b[1m18s\u001b[0m 2s/step - accuracy: 0.4747 - loss: 0.9955 - val_accuracy: 0.5065 - val_loss: 0.9084\n",
            "Epoch 16/70\n",
            "\u001b[1m10/10\u001b[0m \u001b[32m━━━━━━━━━━━━━━━━━━━━\u001b[0m\u001b[37m\u001b[0m \u001b[1m21s\u001b[0m 2s/step - accuracy: 0.4919 - loss: 0.9457 - val_accuracy: 0.5065 - val_loss: 0.9003\n",
            "Epoch 17/70\n",
            "\u001b[1m10/10\u001b[0m \u001b[32m━━━━━━━━━━━━━━━━━━━━\u001b[0m\u001b[37m\u001b[0m \u001b[1m18s\u001b[0m 2s/step - accuracy: 0.5607 - loss: 0.8820 - val_accuracy: 0.5065 - val_loss: 0.8928\n",
            "Epoch 18/70\n",
            "\u001b[1m10/10\u001b[0m \u001b[32m━━━━━━━━━━━━━━━━━━━━\u001b[0m\u001b[37m\u001b[0m \u001b[1m23s\u001b[0m 2s/step - accuracy: 0.5104 - loss: 0.9491 - val_accuracy: 0.5065 - val_loss: 0.8849\n",
            "Epoch 19/70\n",
            "\u001b[1m10/10\u001b[0m \u001b[32m━━━━━━━━━━━━━━━━━━━━\u001b[0m\u001b[37m\u001b[0m \u001b[1m18s\u001b[0m 2s/step - accuracy: 0.4848 - loss: 0.9498 - val_accuracy: 0.5065 - val_loss: 0.8772\n",
            "Epoch 20/70\n",
            "\u001b[1m10/10\u001b[0m \u001b[32m━━━━━━━━━━━━━━━━━━━━\u001b[0m\u001b[37m\u001b[0m \u001b[1m17s\u001b[0m 2s/step - accuracy: 0.4815 - loss: 0.9259 - val_accuracy: 0.5065 - val_loss: 0.8700\n",
            "Epoch 21/70\n",
            "\u001b[1m10/10\u001b[0m \u001b[32m━━━━━━━━━━━━━━━━━━━━\u001b[0m\u001b[37m\u001b[0m \u001b[1m17s\u001b[0m 2s/step - accuracy: 0.5486 - loss: 0.8359 - val_accuracy: 0.5065 - val_loss: 0.8633\n",
            "Epoch 22/70\n",
            "\u001b[1m10/10\u001b[0m \u001b[32m━━━━━━━━━━━━━━━━━━━━\u001b[0m\u001b[37m\u001b[0m \u001b[1m21s\u001b[0m 2s/step - accuracy: 0.5581 - loss: 0.8227 - val_accuracy: 0.5195 - val_loss: 0.8566\n",
            "Epoch 23/70\n",
            "\u001b[1m10/10\u001b[0m \u001b[32m━━━━━━━━━━━━━━━━━━━━\u001b[0m\u001b[37m\u001b[0m \u001b[1m16s\u001b[0m 2s/step - accuracy: 0.5452 - loss: 0.8810 - val_accuracy: 0.5195 - val_loss: 0.8500\n",
            "Epoch 24/70\n",
            "\u001b[1m10/10\u001b[0m \u001b[32m━━━━━━━━━━━━━━━━━━━━\u001b[0m\u001b[37m\u001b[0m \u001b[1m19s\u001b[0m 2s/step - accuracy: 0.4977 - loss: 0.8974 - val_accuracy: 0.5065 - val_loss: 0.8434\n",
            "Epoch 25/70\n",
            "\u001b[1m10/10\u001b[0m \u001b[32m━━━━━━━━━━━━━━━━━━━━\u001b[0m\u001b[37m\u001b[0m \u001b[1m18s\u001b[0m 2s/step - accuracy: 0.4886 - loss: 0.9090 - val_accuracy: 0.5065 - val_loss: 0.8369\n",
            "Epoch 26/70\n",
            "\u001b[1m10/10\u001b[0m \u001b[32m━━━━━━━━━━━━━━━━━━━━\u001b[0m\u001b[37m\u001b[0m \u001b[1m21s\u001b[0m 2s/step - accuracy: 0.5377 - loss: 0.8058 - val_accuracy: 0.5065 - val_loss: 0.8312\n",
            "Epoch 27/70\n",
            "\u001b[1m10/10\u001b[0m \u001b[32m━━━━━━━━━━━━━━━━━━━━\u001b[0m\u001b[37m\u001b[0m \u001b[1m20s\u001b[0m 2s/step - accuracy: 0.5269 - loss: 0.8365 - val_accuracy: 0.5065 - val_loss: 0.8254\n",
            "Epoch 28/70\n",
            "\u001b[1m10/10\u001b[0m \u001b[32m━━━━━━━━━━━━━━━━━━━━\u001b[0m\u001b[37m\u001b[0m \u001b[1m17s\u001b[0m 2s/step - accuracy: 0.4829 - loss: 0.8834 - val_accuracy: 0.5065 - val_loss: 0.8197\n",
            "Epoch 29/70\n",
            "\u001b[1m10/10\u001b[0m \u001b[32m━━━━━━━━━━━━━━━━━━━━\u001b[0m\u001b[37m\u001b[0m \u001b[1m22s\u001b[0m 2s/step - accuracy: 0.5306 - loss: 0.8003 - val_accuracy: 0.5065 - val_loss: 0.8144\n",
            "Epoch 30/70\n",
            "\u001b[1m10/10\u001b[0m \u001b[32m━━━━━━━━━━━━━━━━━━━━\u001b[0m\u001b[37m\u001b[0m \u001b[1m19s\u001b[0m 2s/step - accuracy: 0.5283 - loss: 0.8272 - val_accuracy: 0.5065 - val_loss: 0.8091\n",
            "Epoch 31/70\n",
            "\u001b[1m10/10\u001b[0m \u001b[32m━━━━━━━━━━━━━━━━━━━━\u001b[0m\u001b[37m\u001b[0m \u001b[1m23s\u001b[0m 2s/step - accuracy: 0.5581 - loss: 0.7887 - val_accuracy: 0.5195 - val_loss: 0.8042\n",
            "Epoch 32/70\n",
            "\u001b[1m10/10\u001b[0m \u001b[32m━━━━━━━━━━━━━━━━━━━━\u001b[0m\u001b[37m\u001b[0m \u001b[1m17s\u001b[0m 2s/step - accuracy: 0.5130 - loss: 0.8218 - val_accuracy: 0.5195 - val_loss: 0.7992\n",
            "Epoch 33/70\n",
            "\u001b[1m10/10\u001b[0m \u001b[32m━━━━━━━━━━━━━━━━━━━━\u001b[0m\u001b[37m\u001b[0m \u001b[1m22s\u001b[0m 2s/step - accuracy: 0.5130 - loss: 0.8156 - val_accuracy: 0.5195 - val_loss: 0.7944\n",
            "Epoch 34/70\n",
            "\u001b[1m10/10\u001b[0m \u001b[32m━━━━━━━━━━━━━━━━━━━━\u001b[0m\u001b[37m\u001b[0m \u001b[1m26s\u001b[0m 3s/step - accuracy: 0.5184 - loss: 0.8144 - val_accuracy: 0.5065 - val_loss: 0.7899\n",
            "Epoch 35/70\n",
            "\u001b[1m10/10\u001b[0m \u001b[32m━━━━━━━━━━━━━━━━━━━━\u001b[0m\u001b[37m\u001b[0m \u001b[1m17s\u001b[0m 2s/step - accuracy: 0.5298 - loss: 0.7929 - val_accuracy: 0.5065 - val_loss: 0.7857\n",
            "Epoch 36/70\n",
            "\u001b[1m10/10\u001b[0m \u001b[32m━━━━━━━━━━━━━━━━━━━━\u001b[0m\u001b[37m\u001b[0m \u001b[1m20s\u001b[0m 2s/step - accuracy: 0.5349 - loss: 0.7850 - val_accuracy: 0.5065 - val_loss: 0.7817\n",
            "Epoch 37/70\n",
            "\u001b[1m10/10\u001b[0m \u001b[32m━━━━━━━━━━━━━━━━━━━━\u001b[0m\u001b[37m\u001b[0m \u001b[1m22s\u001b[0m 2s/step - accuracy: 0.4946 - loss: 0.8196 - val_accuracy: 0.5065 - val_loss: 0.7775\n",
            "Epoch 38/70\n",
            "\u001b[1m10/10\u001b[0m \u001b[32m━━━━━━━━━━━━━━━━━━━━\u001b[0m\u001b[37m\u001b[0m \u001b[1m18s\u001b[0m 2s/step - accuracy: 0.4943 - loss: 0.8097 - val_accuracy: 0.5065 - val_loss: 0.7735\n",
            "Epoch 39/70\n",
            "\u001b[1m10/10\u001b[0m \u001b[32m━━━━━━━━━━━━━━━━━━━━\u001b[0m\u001b[37m\u001b[0m \u001b[1m17s\u001b[0m 2s/step - accuracy: 0.5116 - loss: 0.7964 - val_accuracy: 0.5195 - val_loss: 0.7699\n",
            "Epoch 40/70\n",
            "\u001b[1m10/10\u001b[0m \u001b[32m━━━━━━━━━━━━━━━━━━━━\u001b[0m\u001b[37m\u001b[0m \u001b[1m21s\u001b[0m 2s/step - accuracy: 0.4794 - loss: 0.8440 - val_accuracy: 0.5195 - val_loss: 0.7663\n",
            "Epoch 41/70\n",
            "\u001b[1m10/10\u001b[0m \u001b[32m━━━━━━━━━━━━━━━━━━━━\u001b[0m\u001b[37m\u001b[0m \u001b[1m20s\u001b[0m 2s/step - accuracy: 0.5346 - loss: 0.7803 - val_accuracy: 0.5195 - val_loss: 0.7631\n",
            "Epoch 42/70\n",
            "\u001b[1m10/10\u001b[0m \u001b[32m━━━━━━━━━━━━━━━━━━━━\u001b[0m\u001b[37m\u001b[0m \u001b[1m20s\u001b[0m 2s/step - accuracy: 0.5077 - loss: 0.7933 - val_accuracy: 0.5195 - val_loss: 0.7599\n",
            "Epoch 43/70\n",
            "\u001b[1m10/10\u001b[0m \u001b[32m━━━━━━━━━━━━━━━━━━━━\u001b[0m\u001b[37m\u001b[0m \u001b[1m18s\u001b[0m 2s/step - accuracy: 0.5170 - loss: 0.7741 - val_accuracy: 0.5195 - val_loss: 0.7569\n",
            "Epoch 44/70\n",
            "\u001b[1m10/10\u001b[0m \u001b[32m━━━━━━━━━━━━━━━━━━━━\u001b[0m\u001b[37m\u001b[0m \u001b[1m23s\u001b[0m 2s/step - accuracy: 0.5099 - loss: 0.7886 - val_accuracy: 0.5195 - val_loss: 0.7539\n",
            "Epoch 45/70\n",
            "\u001b[1m10/10\u001b[0m \u001b[32m━━━━━━━━━━━━━━━━━━━━\u001b[0m\u001b[37m\u001b[0m \u001b[1m18s\u001b[0m 2s/step - accuracy: 0.4871 - loss: 0.8104 - val_accuracy: 0.5065 - val_loss: 0.7510\n",
            "Epoch 46/70\n",
            "\u001b[1m10/10\u001b[0m \u001b[32m━━━━━━━━━━━━━━━━━━━━\u001b[0m\u001b[37m\u001b[0m \u001b[1m19s\u001b[0m 2s/step - accuracy: 0.4695 - loss: 0.8144 - val_accuracy: 0.5065 - val_loss: 0.7484\n",
            "Epoch 47/70\n",
            "\u001b[1m10/10\u001b[0m \u001b[32m━━━━━━━━━━━━━━━━━━━━\u001b[0m\u001b[37m\u001b[0m \u001b[1m19s\u001b[0m 2s/step - accuracy: 0.4839 - loss: 0.8027 - val_accuracy: 0.5065 - val_loss: 0.7459\n",
            "Epoch 48/70\n",
            "\u001b[1m10/10\u001b[0m \u001b[32m━━━━━━━━━━━━━━━━━━━━\u001b[0m\u001b[37m\u001b[0m \u001b[1m18s\u001b[0m 2s/step - accuracy: 0.4834 - loss: 0.7807 - val_accuracy: 0.5195 - val_loss: 0.7433\n",
            "Epoch 49/70\n",
            "\u001b[1m10/10\u001b[0m \u001b[32m━━━━━━━━━━━━━━━━━━━━\u001b[0m\u001b[37m\u001b[0m \u001b[1m23s\u001b[0m 2s/step - accuracy: 0.5109 - loss: 0.7629 - val_accuracy: 0.5195 - val_loss: 0.7412\n",
            "Epoch 50/70\n",
            "\u001b[1m10/10\u001b[0m \u001b[32m━━━━━━━━━━━━━━━━━━━━\u001b[0m\u001b[37m\u001b[0m \u001b[1m19s\u001b[0m 2s/step - accuracy: 0.5025 - loss: 0.7835 - val_accuracy: 0.5325 - val_loss: 0.7390\n",
            "Epoch 51/70\n",
            "\u001b[1m10/10\u001b[0m \u001b[32m━━━━━━━━━━━━━━━━━━━━\u001b[0m\u001b[37m\u001b[0m \u001b[1m20s\u001b[0m 2s/step - accuracy: 0.4966 - loss: 0.7523 - val_accuracy: 0.5195 - val_loss: 0.7368\n",
            "Epoch 52/70\n",
            "\u001b[1m10/10\u001b[0m \u001b[32m━━━━━━━━━━━━━━━━━━━━\u001b[0m\u001b[37m\u001b[0m \u001b[1m20s\u001b[0m 2s/step - accuracy: 0.5144 - loss: 0.7680 - val_accuracy: 0.5195 - val_loss: 0.7347\n",
            "Epoch 53/70\n",
            "\u001b[1m10/10\u001b[0m \u001b[32m━━━━━━━━━━━━━━━━━━━━\u001b[0m\u001b[37m\u001b[0m \u001b[1m21s\u001b[0m 2s/step - accuracy: 0.5180 - loss: 0.7542 - val_accuracy: 0.5195 - val_loss: 0.7328\n",
            "Epoch 54/70\n",
            "\u001b[1m10/10\u001b[0m \u001b[32m━━━━━━━━━━━━━━━━━━━━\u001b[0m\u001b[37m\u001b[0m \u001b[1m21s\u001b[0m 2s/step - accuracy: 0.5251 - loss: 0.7376 - val_accuracy: 0.5195 - val_loss: 0.7311\n",
            "Epoch 55/70\n",
            "\u001b[1m10/10\u001b[0m \u001b[32m━━━━━━━━━━━━━━━━━━━━\u001b[0m\u001b[37m\u001b[0m \u001b[1m17s\u001b[0m 2s/step - accuracy: 0.4621 - loss: 0.7934 - val_accuracy: 0.5065 - val_loss: 0.7290\n",
            "Epoch 56/70\n",
            "\u001b[1m10/10\u001b[0m \u001b[32m━━━━━━━━━━━━━━━━━━━━\u001b[0m\u001b[37m\u001b[0m \u001b[1m20s\u001b[0m 2s/step - accuracy: 0.5122 - loss: 0.7303 - val_accuracy: 0.5195 - val_loss: 0.7275\n",
            "Epoch 57/70\n",
            "\u001b[1m10/10\u001b[0m \u001b[32m━━━━━━━━━━━━━━━━━━━━\u001b[0m\u001b[37m\u001b[0m \u001b[1m20s\u001b[0m 2s/step - accuracy: 0.5215 - loss: 0.7285 - val_accuracy: 0.5325 - val_loss: 0.7257\n",
            "Epoch 58/70\n",
            "\u001b[1m10/10\u001b[0m \u001b[32m━━━━━━━━━━━━━━━━━━━━\u001b[0m\u001b[37m\u001b[0m \u001b[1m19s\u001b[0m 2s/step - accuracy: 0.5094 - loss: 0.7607 - val_accuracy: 0.5325 - val_loss: 0.7242\n",
            "Epoch 59/70\n",
            "\u001b[1m10/10\u001b[0m \u001b[32m━━━━━━━━━━━━━━━━━━━━\u001b[0m\u001b[37m\u001b[0m \u001b[1m18s\u001b[0m 2s/step - accuracy: 0.5011 - loss: 0.7689 - val_accuracy: 0.5325 - val_loss: 0.7227\n",
            "Epoch 60/70\n",
            "\u001b[1m10/10\u001b[0m \u001b[32m━━━━━━━━━━━━━━━━━━━━\u001b[0m\u001b[37m\u001b[0m \u001b[1m19s\u001b[0m 2s/step - accuracy: 0.5548 - loss: 0.7365 - val_accuracy: 0.5325 - val_loss: 0.7214\n",
            "Epoch 61/70\n",
            "\u001b[1m10/10\u001b[0m \u001b[32m━━━━━━━━━━━━━━━━━━━━\u001b[0m\u001b[37m\u001b[0m \u001b[1m18s\u001b[0m 2s/step - accuracy: 0.5023 - loss: 0.7588 - val_accuracy: 0.5455 - val_loss: 0.7201\n",
            "Epoch 62/70\n",
            "\u001b[1m10/10\u001b[0m \u001b[32m━━━━━━━━━━━━━━━━━━━━\u001b[0m\u001b[37m\u001b[0m \u001b[1m19s\u001b[0m 2s/step - accuracy: 0.5055 - loss: 0.7731 - val_accuracy: 0.5325 - val_loss: 0.7187\n",
            "Epoch 63/70\n",
            "\u001b[1m10/10\u001b[0m \u001b[32m━━━━━━━━━━━━━━━━━━━━\u001b[0m\u001b[37m\u001b[0m \u001b[1m19s\u001b[0m 2s/step - accuracy: 0.4624 - loss: 0.7453 - val_accuracy: 0.5325 - val_loss: 0.7176\n",
            "Epoch 64/70\n",
            "\u001b[1m10/10\u001b[0m \u001b[32m━━━━━━━━━━━━━━━━━━━━\u001b[0m\u001b[37m\u001b[0m \u001b[1m18s\u001b[0m 2s/step - accuracy: 0.5136 - loss: 0.7374 - val_accuracy: 0.5325 - val_loss: 0.7165\n",
            "Epoch 65/70\n",
            "\u001b[1m10/10\u001b[0m \u001b[32m━━━━━━━━━━━━━━━━━━━━\u001b[0m\u001b[37m\u001b[0m \u001b[1m23s\u001b[0m 2s/step - accuracy: 0.5133 - loss: 0.7442 - val_accuracy: 0.5455 - val_loss: 0.7154\n",
            "Epoch 66/70\n",
            "\u001b[1m10/10\u001b[0m \u001b[32m━━━━━━━━━━━━━━━━━━━━\u001b[0m\u001b[37m\u001b[0m \u001b[1m18s\u001b[0m 2s/step - accuracy: 0.5157 - loss: 0.7437 - val_accuracy: 0.5325 - val_loss: 0.7143\n",
            "Epoch 67/70\n",
            "\u001b[1m10/10\u001b[0m \u001b[32m━━━━━━━━━━━━━━━━━━━━\u001b[0m\u001b[37m\u001b[0m \u001b[1m23s\u001b[0m 2s/step - accuracy: 0.5576 - loss: 0.7242 - val_accuracy: 0.5325 - val_loss: 0.7134\n",
            "Epoch 68/70\n",
            "\u001b[1m10/10\u001b[0m \u001b[32m━━━━━━━━━━━━━━━━━━━━\u001b[0m\u001b[37m\u001b[0m \u001b[1m18s\u001b[0m 2s/step - accuracy: 0.5452 - loss: 0.7319 - val_accuracy: 0.5325 - val_loss: 0.7124\n",
            "Epoch 69/70\n",
            "\u001b[1m10/10\u001b[0m \u001b[32m━━━━━━━━━━━━━━━━━━━━\u001b[0m\u001b[37m\u001b[0m \u001b[1m17s\u001b[0m 2s/step - accuracy: 0.4978 - loss: 0.7513 - val_accuracy: 0.5325 - val_loss: 0.7114\n",
            "Epoch 70/70\n",
            "\u001b[1m10/10\u001b[0m \u001b[32m━━━━━━━━━━━━━━━━━━━━\u001b[0m\u001b[37m\u001b[0m \u001b[1m19s\u001b[0m 2s/step - accuracy: 0.5131 - loss: 0.7540 - val_accuracy: 0.5325 - val_loss: 0.7106\n"
          ]
        }
      ],
      "source": [
        "history = model.fit(\n",
        "    train_dataset,\n",
        "    epochs=epochs,\n",
        "    validation_data=test_dataset\n",
        ")"
      ]
    },
    {
      "cell_type": "code",
      "execution_count": 13,
      "metadata": {
        "colab": {
          "base_uri": "https://localhost:8080/"
        },
        "id": "xBM7oxnpOldb",
        "outputId": "f5334d4a-f636-4ec4-99cd-6880d9317807"
      },
      "outputs": [
        {
          "output_type": "stream",
          "name": "stdout",
          "text": [
            "Epoch 1/70\n",
            "\u001b[1m10/10\u001b[0m \u001b[32m━━━━━━━━━━━━━━━━━━━━\u001b[0m\u001b[37m\u001b[0m \u001b[1m26s\u001b[0m 2s/step - accuracy: 0.5196 - loss: 0.8222 - val_accuracy: 0.5195 - val_loss: 0.7545\n",
            "Epoch 2/70\n",
            "\u001b[1m10/10\u001b[0m \u001b[32m━━━━━━━━━━━━━━━━━━━━\u001b[0m\u001b[37m\u001b[0m \u001b[1m40s\u001b[0m 2s/step - accuracy: 0.5297 - loss: 0.8080 - val_accuracy: 0.5325 - val_loss: 0.7512\n",
            "Epoch 3/70\n",
            "\u001b[1m10/10\u001b[0m \u001b[32m━━━━━━━━━━━━━━━━━━━━\u001b[0m\u001b[37m\u001b[0m \u001b[1m41s\u001b[0m 2s/step - accuracy: 0.5117 - loss: 0.7843 - val_accuracy: 0.5325 - val_loss: 0.7480\n",
            "Epoch 4/70\n",
            "\u001b[1m10/10\u001b[0m \u001b[32m━━━━━━━━━━━━━━━━━━━━\u001b[0m\u001b[37m\u001b[0m \u001b[1m20s\u001b[0m 2s/step - accuracy: 0.5046 - loss: 0.8041 - val_accuracy: 0.5325 - val_loss: 0.7448\n",
            "Epoch 5/70\n",
            "\u001b[1m10/10\u001b[0m \u001b[32m━━━━━━━━━━━━━━━━━━━━\u001b[0m\u001b[37m\u001b[0m \u001b[1m23s\u001b[0m 2s/step - accuracy: 0.5228 - loss: 0.7763 - val_accuracy: 0.5325 - val_loss: 0.7419\n",
            "Epoch 6/70\n",
            "\u001b[1m10/10\u001b[0m \u001b[32m━━━━━━━━━━━━━━━━━━━━\u001b[0m\u001b[37m\u001b[0m \u001b[1m22s\u001b[0m 2s/step - accuracy: 0.5409 - loss: 0.7359 - val_accuracy: 0.5325 - val_loss: 0.7389\n",
            "Epoch 7/70\n",
            "\u001b[1m10/10\u001b[0m \u001b[32m━━━━━━━━━━━━━━━━━━━━\u001b[0m\u001b[37m\u001b[0m \u001b[1m39s\u001b[0m 2s/step - accuracy: 0.5341 - loss: 0.7548 - val_accuracy: 0.5325 - val_loss: 0.7360\n",
            "Epoch 8/70\n",
            "\u001b[1m10/10\u001b[0m \u001b[32m━━━━━━━━━━━━━━━━━━━━\u001b[0m\u001b[37m\u001b[0m \u001b[1m24s\u001b[0m 2s/step - accuracy: 0.4977 - loss: 0.7585 - val_accuracy: 0.5455 - val_loss: 0.7334\n",
            "Epoch 9/70\n",
            "\u001b[1m10/10\u001b[0m \u001b[32m━━━━━━━━━━━━━━━━━━━━\u001b[0m\u001b[37m\u001b[0m \u001b[1m21s\u001b[0m 2s/step - accuracy: 0.5289 - loss: 0.7535 - val_accuracy: 0.5455 - val_loss: 0.7306\n",
            "Epoch 10/70\n",
            "\u001b[1m10/10\u001b[0m \u001b[32m━━━━━━━━━━━━━━━━━━━━\u001b[0m\u001b[37m\u001b[0m \u001b[1m21s\u001b[0m 2s/step - accuracy: 0.5211 - loss: 0.7412 - val_accuracy: 0.5455 - val_loss: 0.7278\n",
            "Epoch 11/70\n",
            "\u001b[1m10/10\u001b[0m \u001b[32m━━━━━━━━━━━━━━━━━━━━\u001b[0m\u001b[37m\u001b[0m \u001b[1m22s\u001b[0m 2s/step - accuracy: 0.5586 - loss: 0.7239 - val_accuracy: 0.5455 - val_loss: 0.7250\n",
            "Epoch 12/70\n",
            "\u001b[1m10/10\u001b[0m \u001b[32m━━━━━━━━━━━━━━━━━━━━\u001b[0m\u001b[37m\u001b[0m \u001b[1m20s\u001b[0m 2s/step - accuracy: 0.5084 - loss: 0.7873 - val_accuracy: 0.5455 - val_loss: 0.7222\n",
            "Epoch 13/70\n",
            "\u001b[1m10/10\u001b[0m \u001b[32m━━━━━━━━━━━━━━━━━━━━\u001b[0m\u001b[37m\u001b[0m \u001b[1m22s\u001b[0m 2s/step - accuracy: 0.5034 - loss: 0.7495 - val_accuracy: 0.5584 - val_loss: 0.7195\n",
            "Epoch 14/70\n",
            "\u001b[1m10/10\u001b[0m \u001b[32m━━━━━━━━━━━━━━━━━━━━\u001b[0m\u001b[37m\u001b[0m \u001b[1m41s\u001b[0m 2s/step - accuracy: 0.5100 - loss: 0.7416 - val_accuracy: 0.5584 - val_loss: 0.7169\n",
            "Epoch 15/70\n",
            "\u001b[1m10/10\u001b[0m \u001b[32m━━━━━━━━━━━━━━━━━━━━\u001b[0m\u001b[37m\u001b[0m \u001b[1m41s\u001b[0m 2s/step - accuracy: 0.5514 - loss: 0.7409 - val_accuracy: 0.5584 - val_loss: 0.7145\n",
            "Epoch 16/70\n",
            "\u001b[1m10/10\u001b[0m \u001b[32m━━━━━━━━━━━━━━━━━━━━\u001b[0m\u001b[37m\u001b[0m \u001b[1m22s\u001b[0m 2s/step - accuracy: 0.5247 - loss: 0.7405 - val_accuracy: 0.5584 - val_loss: 0.7122\n",
            "Epoch 17/70\n",
            "\u001b[1m10/10\u001b[0m \u001b[32m━━━━━━━━━━━━━━━━━━━━\u001b[0m\u001b[37m\u001b[0m \u001b[1m39s\u001b[0m 2s/step - accuracy: 0.5148 - loss: 0.7589 - val_accuracy: 0.5584 - val_loss: 0.7096\n",
            "Epoch 18/70\n",
            "\u001b[1m10/10\u001b[0m \u001b[32m━━━━━━━━━━━━━━━━━━━━\u001b[0m\u001b[37m\u001b[0m \u001b[1m22s\u001b[0m 2s/step - accuracy: 0.5482 - loss: 0.7480 - val_accuracy: 0.5714 - val_loss: 0.7071\n",
            "Epoch 19/70\n",
            "\u001b[1m10/10\u001b[0m \u001b[32m━━━━━━━━━━━━━━━━━━━━\u001b[0m\u001b[37m\u001b[0m \u001b[1m40s\u001b[0m 2s/step - accuracy: 0.5189 - loss: 0.7379 - val_accuracy: 0.5844 - val_loss: 0.7048\n",
            "Epoch 20/70\n",
            "\u001b[1m10/10\u001b[0m \u001b[32m━━━━━━━━━━━━━━━━━━━━\u001b[0m\u001b[37m\u001b[0m \u001b[1m40s\u001b[0m 2s/step - accuracy: 0.5162 - loss: 0.7472 - val_accuracy: 0.5844 - val_loss: 0.7025\n",
            "Epoch 21/70\n",
            "\u001b[1m10/10\u001b[0m \u001b[32m━━━━━━━━━━━━━━━━━━━━\u001b[0m\u001b[37m\u001b[0m \u001b[1m23s\u001b[0m 2s/step - accuracy: 0.5674 - loss: 0.7086 - val_accuracy: 0.5844 - val_loss: 0.7002\n",
            "Epoch 22/70\n",
            "\u001b[1m10/10\u001b[0m \u001b[32m━━━━━━━━━━━━━━━━━━━━\u001b[0m\u001b[37m\u001b[0m \u001b[1m41s\u001b[0m 2s/step - accuracy: 0.5105 - loss: 0.7470 - val_accuracy: 0.5844 - val_loss: 0.6978\n",
            "Epoch 23/70\n",
            "\u001b[1m10/10\u001b[0m \u001b[32m━━━━━━━━━━━━━━━━━━━━\u001b[0m\u001b[37m\u001b[0m \u001b[1m21s\u001b[0m 2s/step - accuracy: 0.5368 - loss: 0.7250 - val_accuracy: 0.5844 - val_loss: 0.6956\n",
            "Epoch 24/70\n",
            "\u001b[1m10/10\u001b[0m \u001b[32m━━━━━━━━━━━━━━━━━━━━\u001b[0m\u001b[37m\u001b[0m \u001b[1m22s\u001b[0m 2s/step - accuracy: 0.5426 - loss: 0.7414 - val_accuracy: 0.5844 - val_loss: 0.6934\n",
            "Epoch 25/70\n",
            "\u001b[1m10/10\u001b[0m \u001b[32m━━━━━━━━━━━━━━━━━━━━\u001b[0m\u001b[37m\u001b[0m \u001b[1m40s\u001b[0m 2s/step - accuracy: 0.5596 - loss: 0.7137 - val_accuracy: 0.5844 - val_loss: 0.6912\n",
            "Epoch 26/70\n",
            "\u001b[1m10/10\u001b[0m \u001b[32m━━━━━━━━━━━━━━━━━━━━\u001b[0m\u001b[37m\u001b[0m \u001b[1m41s\u001b[0m 2s/step - accuracy: 0.5191 - loss: 0.7275 - val_accuracy: 0.5844 - val_loss: 0.6891\n",
            "Epoch 27/70\n",
            "\u001b[1m10/10\u001b[0m \u001b[32m━━━━━━━━━━━━━━━━━━━━\u001b[0m\u001b[37m\u001b[0m \u001b[1m20s\u001b[0m 2s/step - accuracy: 0.5589 - loss: 0.7283 - val_accuracy: 0.5844 - val_loss: 0.6870\n",
            "Epoch 28/70\n",
            "\u001b[1m10/10\u001b[0m \u001b[32m━━━━━━━━━━━━━━━━━━━━\u001b[0m\u001b[37m\u001b[0m \u001b[1m23s\u001b[0m 2s/step - accuracy: 0.5223 - loss: 0.7628 - val_accuracy: 0.5844 - val_loss: 0.6848\n",
            "Epoch 29/70\n",
            "\u001b[1m10/10\u001b[0m \u001b[32m━━━━━━━━━━━━━━━━━━━━\u001b[0m\u001b[37m\u001b[0m \u001b[1m20s\u001b[0m 2s/step - accuracy: 0.5051 - loss: 0.7095 - val_accuracy: 0.5844 - val_loss: 0.6829\n",
            "Epoch 30/70\n",
            "\u001b[1m10/10\u001b[0m \u001b[32m━━━━━━━━━━━━━━━━━━━━\u001b[0m\u001b[37m\u001b[0m \u001b[1m22s\u001b[0m 2s/step - accuracy: 0.5906 - loss: 0.7023 - val_accuracy: 0.5844 - val_loss: 0.6808\n",
            "Epoch 31/70\n",
            "\u001b[1m10/10\u001b[0m \u001b[32m━━━━━━━━━━━━━━━━━━━━\u001b[0m\u001b[37m\u001b[0m \u001b[1m42s\u001b[0m 2s/step - accuracy: 0.5836 - loss: 0.6976 - val_accuracy: 0.5844 - val_loss: 0.6787\n",
            "Epoch 32/70\n",
            "\u001b[1m10/10\u001b[0m \u001b[32m━━━━━━━━━━━━━━━━━━━━\u001b[0m\u001b[37m\u001b[0m \u001b[1m40s\u001b[0m 2s/step - accuracy: 0.6040 - loss: 0.6821 - val_accuracy: 0.5844 - val_loss: 0.6767\n",
            "Epoch 33/70\n",
            "\u001b[1m10/10\u001b[0m \u001b[32m━━━━━━━━━━━━━━━━━━━━\u001b[0m\u001b[37m\u001b[0m \u001b[1m40s\u001b[0m 2s/step - accuracy: 0.5233 - loss: 0.7475 - val_accuracy: 0.5844 - val_loss: 0.6747\n",
            "Epoch 34/70\n",
            "\u001b[1m10/10\u001b[0m \u001b[32m━━━━━━━━━━━━━━━━━━━━\u001b[0m\u001b[37m\u001b[0m \u001b[1m22s\u001b[0m 2s/step - accuracy: 0.5592 - loss: 0.7049 - val_accuracy: 0.5844 - val_loss: 0.6727\n",
            "Epoch 35/70\n",
            "\u001b[1m10/10\u001b[0m \u001b[32m━━━━━━━━━━━━━━━━━━━━\u001b[0m\u001b[37m\u001b[0m \u001b[1m20s\u001b[0m 2s/step - accuracy: 0.5207 - loss: 0.7403 - val_accuracy: 0.5844 - val_loss: 0.6707\n",
            "Epoch 36/70\n",
            "\u001b[1m10/10\u001b[0m \u001b[32m━━━━━━━━━━━━━━━━━━━━\u001b[0m\u001b[37m\u001b[0m \u001b[1m23s\u001b[0m 2s/step - accuracy: 0.5748 - loss: 0.7179 - val_accuracy: 0.5844 - val_loss: 0.6687\n",
            "Epoch 37/70\n",
            "\u001b[1m10/10\u001b[0m \u001b[32m━━━━━━━━━━━━━━━━━━━━\u001b[0m\u001b[37m\u001b[0m \u001b[1m20s\u001b[0m 2s/step - accuracy: 0.5268 - loss: 0.7356 - val_accuracy: 0.5714 - val_loss: 0.6666\n",
            "Epoch 38/70\n",
            "\u001b[1m10/10\u001b[0m \u001b[32m━━━━━━━━━━━━━━━━━━━━\u001b[0m\u001b[37m\u001b[0m \u001b[1m22s\u001b[0m 2s/step - accuracy: 0.4931 - loss: 0.7405 - val_accuracy: 0.5714 - val_loss: 0.6646\n",
            "Epoch 39/70\n",
            "\u001b[1m10/10\u001b[0m \u001b[32m━━━━━━━━━━━━━━━━━━━━\u001b[0m\u001b[37m\u001b[0m \u001b[1m20s\u001b[0m 2s/step - accuracy: 0.5858 - loss: 0.6889 - val_accuracy: 0.5714 - val_loss: 0.6626\n",
            "Epoch 40/70\n",
            "\u001b[1m10/10\u001b[0m \u001b[32m━━━━━━━━━━━━━━━━━━━━\u001b[0m\u001b[37m\u001b[0m \u001b[1m23s\u001b[0m 2s/step - accuracy: 0.5596 - loss: 0.7088 - val_accuracy: 0.5714 - val_loss: 0.6607\n",
            "Epoch 41/70\n",
            "\u001b[1m10/10\u001b[0m \u001b[32m━━━━━━━━━━━━━━━━━━━━\u001b[0m\u001b[37m\u001b[0m \u001b[1m40s\u001b[0m 2s/step - accuracy: 0.5555 - loss: 0.7100 - val_accuracy: 0.5714 - val_loss: 0.6589\n",
            "Epoch 42/70\n",
            "\u001b[1m10/10\u001b[0m \u001b[32m━━━━━━━━━━━━━━━━━━━━\u001b[0m\u001b[37m\u001b[0m \u001b[1m42s\u001b[0m 2s/step - accuracy: 0.5269 - loss: 0.7375 - val_accuracy: 0.5714 - val_loss: 0.6571\n",
            "Epoch 43/70\n",
            "\u001b[1m10/10\u001b[0m \u001b[32m━━━━━━━━━━━━━━━━━━━━\u001b[0m\u001b[37m\u001b[0m \u001b[1m40s\u001b[0m 2s/step - accuracy: 0.5861 - loss: 0.6936 - val_accuracy: 0.5714 - val_loss: 0.6551\n",
            "Epoch 44/70\n",
            "\u001b[1m10/10\u001b[0m \u001b[32m━━━━━━━━━━━━━━━━━━━━\u001b[0m\u001b[37m\u001b[0m \u001b[1m22s\u001b[0m 2s/step - accuracy: 0.5349 - loss: 0.7155 - val_accuracy: 0.5714 - val_loss: 0.6532\n",
            "Epoch 45/70\n",
            "\u001b[1m10/10\u001b[0m \u001b[32m━━━━━━━━━━━━━━━━━━━━\u001b[0m\u001b[37m\u001b[0m \u001b[1m41s\u001b[0m 2s/step - accuracy: 0.5154 - loss: 0.7382 - val_accuracy: 0.5714 - val_loss: 0.6513\n",
            "Epoch 46/70\n",
            "\u001b[1m10/10\u001b[0m \u001b[32m━━━━━━━━━━━━━━━━━━━━\u001b[0m\u001b[37m\u001b[0m \u001b[1m42s\u001b[0m 2s/step - accuracy: 0.5548 - loss: 0.6915 - val_accuracy: 0.5714 - val_loss: 0.6495\n",
            "Epoch 47/70\n",
            "\u001b[1m10/10\u001b[0m \u001b[32m━━━━━━━━━━━━━━━━━━━━\u001b[0m\u001b[37m\u001b[0m \u001b[1m20s\u001b[0m 2s/step - accuracy: 0.5293 - loss: 0.7183 - val_accuracy: 0.5844 - val_loss: 0.6478\n",
            "Epoch 48/70\n",
            "\u001b[1m10/10\u001b[0m \u001b[32m━━━━━━━━━━━━━━━━━━━━\u001b[0m\u001b[37m\u001b[0m \u001b[1m22s\u001b[0m 2s/step - accuracy: 0.5719 - loss: 0.6972 - val_accuracy: 0.5844 - val_loss: 0.6460\n",
            "Epoch 49/70\n",
            "\u001b[1m10/10\u001b[0m \u001b[32m━━━━━━━━━━━━━━━━━━━━\u001b[0m\u001b[37m\u001b[0m \u001b[1m41s\u001b[0m 2s/step - accuracy: 0.5897 - loss: 0.7012 - val_accuracy: 0.5974 - val_loss: 0.6443\n",
            "Epoch 50/70\n",
            "\u001b[1m10/10\u001b[0m \u001b[32m━━━━━━━━━━━━━━━━━━━━\u001b[0m\u001b[37m\u001b[0m \u001b[1m42s\u001b[0m 2s/step - accuracy: 0.5352 - loss: 0.7365 - val_accuracy: 0.5974 - val_loss: 0.6426\n",
            "Epoch 51/70\n",
            "\u001b[1m10/10\u001b[0m \u001b[32m━━━━━━━━━━━━━━━━━━━━\u001b[0m\u001b[37m\u001b[0m \u001b[1m39s\u001b[0m 2s/step - accuracy: 0.5821 - loss: 0.6774 - val_accuracy: 0.6104 - val_loss: 0.6410\n",
            "Epoch 52/70\n",
            "\u001b[1m10/10\u001b[0m \u001b[32m━━━━━━━━━━━━━━━━━━━━\u001b[0m\u001b[37m\u001b[0m \u001b[1m22s\u001b[0m 2s/step - accuracy: 0.5362 - loss: 0.7181 - val_accuracy: 0.6104 - val_loss: 0.6393\n",
            "Epoch 53/70\n",
            "\u001b[1m10/10\u001b[0m \u001b[32m━━━━━━━━━━━━━━━━━━━━\u001b[0m\u001b[37m\u001b[0m \u001b[1m41s\u001b[0m 2s/step - accuracy: 0.5034 - loss: 0.7507 - val_accuracy: 0.6104 - val_loss: 0.6375\n",
            "Epoch 54/70\n",
            "\u001b[1m10/10\u001b[0m \u001b[32m━━━━━━━━━━━━━━━━━━━━\u001b[0m\u001b[37m\u001b[0m \u001b[1m41s\u001b[0m 2s/step - accuracy: 0.5320 - loss: 0.7077 - val_accuracy: 0.6104 - val_loss: 0.6358\n",
            "Epoch 55/70\n",
            "\u001b[1m10/10\u001b[0m \u001b[32m━━━━━━━━━━━━━━━━━━━━\u001b[0m\u001b[37m\u001b[0m \u001b[1m41s\u001b[0m 2s/step - accuracy: 0.5785 - loss: 0.7056 - val_accuracy: 0.6104 - val_loss: 0.6341\n",
            "Epoch 56/70\n",
            "\u001b[1m10/10\u001b[0m \u001b[32m━━━━━━━━━━━━━━━━━━━━\u001b[0m\u001b[37m\u001b[0m \u001b[1m39s\u001b[0m 2s/step - accuracy: 0.5196 - loss: 0.7216 - val_accuracy: 0.6104 - val_loss: 0.6325\n",
            "Epoch 57/70\n",
            "\u001b[1m10/10\u001b[0m \u001b[32m━━━━━━━━━━━━━━━━━━━━\u001b[0m\u001b[37m\u001b[0m \u001b[1m21s\u001b[0m 2s/step - accuracy: 0.5598 - loss: 0.6903 - val_accuracy: 0.6104 - val_loss: 0.6309\n",
            "Epoch 58/70\n",
            "\u001b[1m10/10\u001b[0m \u001b[32m━━━━━━━━━━━━━━━━━━━━\u001b[0m\u001b[37m\u001b[0m \u001b[1m42s\u001b[0m 2s/step - accuracy: 0.5539 - loss: 0.7204 - val_accuracy: 0.6364 - val_loss: 0.6294\n",
            "Epoch 59/70\n",
            "\u001b[1m10/10\u001b[0m \u001b[32m━━━━━━━━━━━━━━━━━━━━\u001b[0m\u001b[37m\u001b[0m \u001b[1m20s\u001b[0m 2s/step - accuracy: 0.5739 - loss: 0.6873 - val_accuracy: 0.6364 - val_loss: 0.6279\n",
            "Epoch 60/70\n",
            "\u001b[1m10/10\u001b[0m \u001b[32m━━━━━━━━━━━━━━━━━━━━\u001b[0m\u001b[37m\u001b[0m \u001b[1m22s\u001b[0m 2s/step - accuracy: 0.5455 - loss: 0.6947 - val_accuracy: 0.6364 - val_loss: 0.6262\n",
            "Epoch 61/70\n",
            "\u001b[1m10/10\u001b[0m \u001b[32m━━━━━━━━━━━━━━━━━━━━\u001b[0m\u001b[37m\u001b[0m \u001b[1m20s\u001b[0m 2s/step - accuracy: 0.6175 - loss: 0.6646 - val_accuracy: 0.6364 - val_loss: 0.6246\n",
            "Epoch 62/70\n",
            "\u001b[1m10/10\u001b[0m \u001b[32m━━━━━━━━━━━━━━━━━━━━\u001b[0m\u001b[37m\u001b[0m \u001b[1m23s\u001b[0m 2s/step - accuracy: 0.5552 - loss: 0.7315 - val_accuracy: 0.6494 - val_loss: 0.6228\n",
            "Epoch 63/70\n",
            "\u001b[1m10/10\u001b[0m \u001b[32m━━━━━━━━━━━━━━━━━━━━\u001b[0m\u001b[37m\u001b[0m \u001b[1m41s\u001b[0m 2s/step - accuracy: 0.5528 - loss: 0.6842 - val_accuracy: 0.6494 - val_loss: 0.6212\n",
            "Epoch 64/70\n",
            "\u001b[1m10/10\u001b[0m \u001b[32m━━━━━━━━━━━━━━━━━━━━\u001b[0m\u001b[37m\u001b[0m \u001b[1m41s\u001b[0m 2s/step - accuracy: 0.5856 - loss: 0.6748 - val_accuracy: 0.6494 - val_loss: 0.6196\n",
            "Epoch 65/70\n",
            "\u001b[1m10/10\u001b[0m \u001b[32m━━━━━━━━━━━━━━━━━━━━\u001b[0m\u001b[37m\u001b[0m \u001b[1m24s\u001b[0m 2s/step - accuracy: 0.6039 - loss: 0.6787 - val_accuracy: 0.6494 - val_loss: 0.6181\n",
            "Epoch 66/70\n",
            "\u001b[1m10/10\u001b[0m \u001b[32m━━━━━━━━━━━━━━━━━━━━\u001b[0m\u001b[37m\u001b[0m \u001b[1m20s\u001b[0m 2s/step - accuracy: 0.5962 - loss: 0.6821 - val_accuracy: 0.6494 - val_loss: 0.6166\n",
            "Epoch 67/70\n",
            "\u001b[1m10/10\u001b[0m \u001b[32m━━━━━━━━━━━━━━━━━━━━\u001b[0m\u001b[37m\u001b[0m \u001b[1m22s\u001b[0m 2s/step - accuracy: 0.5179 - loss: 0.7504 - val_accuracy: 0.6494 - val_loss: 0.6150\n",
            "Epoch 68/70\n",
            "\u001b[1m10/10\u001b[0m \u001b[32m━━━━━━━━━━━━━━━━━━━━\u001b[0m\u001b[37m\u001b[0m \u001b[1m41s\u001b[0m 2s/step - accuracy: 0.5296 - loss: 0.6960 - val_accuracy: 0.6494 - val_loss: 0.6134\n",
            "Epoch 69/70\n",
            "\u001b[1m10/10\u001b[0m \u001b[32m━━━━━━━━━━━━━━━━━━━━\u001b[0m\u001b[37m\u001b[0m \u001b[1m41s\u001b[0m 2s/step - accuracy: 0.5866 - loss: 0.6867 - val_accuracy: 0.6494 - val_loss: 0.6117\n",
            "Epoch 70/70\n",
            "\u001b[1m10/10\u001b[0m \u001b[32m━━━━━━━━━━━━━━━━━━━━\u001b[0m\u001b[37m\u001b[0m \u001b[1m41s\u001b[0m 2s/step - accuracy: 0.5786 - loss: 0.6769 - val_accuracy: 0.6623 - val_loss: 0.6104\n"
          ]
        }
      ],
      "source": [
        "augmented_data_history = augmented_data_model.fit(\n",
        "    augmented_train_dataset,\n",
        "    epochs=epochs,\n",
        "    validation_data=augmented_test_dataset,\n",
        ")"
      ]
    },
    {
      "cell_type": "code",
      "source": [
        "import numpy as np\n",
        "\n",
        "x_test_list = []\n",
        "y_test_list = []\n",
        "for images, labels in test_dataset:\n",
        "    x_test_list.extend(images.numpy())\n",
        "    y_test_list.extend(labels.numpy())\n",
        "\n",
        "x_test = np.array(x_test_list)\n",
        "y_test = np.array(y_test_list)\n",
        "loss, accuracy = model.evaluate(x_test, y_test, verbose=0)\n",
        "\n",
        "print('Test loss:', loss)\n",
        "print('Test accuracy:', accuracy)\n",
        "\n",
        "aug_loss, aug_accuracy = augmented_data_model.evaluate(x_test, y_test, verbose=0)\n",
        "\n",
        "print('Test augmented loss:', aug_loss)\n",
        "print('Test augmented accuracy:', aug_accuracy)"
      ],
      "metadata": {
        "colab": {
          "base_uri": "https://localhost:8080/"
        },
        "id": "AO23oftJcqcK",
        "outputId": "2d500a90-4ec9-43e7-c9ff-ea143fa81903"
      },
      "execution_count": 14,
      "outputs": [
        {
          "output_type": "stream",
          "name": "stdout",
          "text": [
            "Test loss: 0.710628092288971\n",
            "Test accuracy: 0.5324675440788269\n",
            "Test augmented loss: 0.7572253942489624\n",
            "Test augmented accuracy: 0.48051947355270386\n"
          ]
        }
      ]
    },
    {
      "cell_type": "code",
      "execution_count": 15,
      "metadata": {
        "colab": {
          "base_uri": "https://localhost:8080/",
          "height": 17
        },
        "id": "e2CmhDkxSNmi",
        "outputId": "66b09136-a131-45a3-faf5-cde650c672d6"
      },
      "outputs": [
        {
          "output_type": "display_data",
          "data": {
            "text/plain": [
              "<IPython.core.display.Javascript object>"
            ],
            "application/javascript": [
              "\n",
              "    async function download(id, filename, size) {\n",
              "      if (!google.colab.kernel.accessAllowed) {\n",
              "        return;\n",
              "      }\n",
              "      const div = document.createElement('div');\n",
              "      const label = document.createElement('label');\n",
              "      label.textContent = `Downloading \"${filename}\": `;\n",
              "      div.appendChild(label);\n",
              "      const progress = document.createElement('progress');\n",
              "      progress.max = size;\n",
              "      div.appendChild(progress);\n",
              "      document.body.appendChild(div);\n",
              "\n",
              "      const buffers = [];\n",
              "      let downloaded = 0;\n",
              "\n",
              "      const channel = await google.colab.kernel.comms.open(id);\n",
              "      // Send a message to notify the kernel that we're ready.\n",
              "      channel.send({})\n",
              "\n",
              "      for await (const message of channel.messages) {\n",
              "        // Send a message to notify the kernel that we're ready.\n",
              "        channel.send({})\n",
              "        if (message.buffers) {\n",
              "          for (const buffer of message.buffers) {\n",
              "            buffers.push(buffer);\n",
              "            downloaded += buffer.byteLength;\n",
              "            progress.value = downloaded;\n",
              "          }\n",
              "        }\n",
              "      }\n",
              "      const blob = new Blob(buffers, {type: 'application/binary'});\n",
              "      const a = document.createElement('a');\n",
              "      a.href = window.URL.createObjectURL(blob);\n",
              "      a.download = filename;\n",
              "      div.appendChild(a);\n",
              "      a.click();\n",
              "      div.remove();\n",
              "    }\n",
              "  "
            ]
          },
          "metadata": {}
        },
        {
          "output_type": "display_data",
          "data": {
            "text/plain": [
              "<IPython.core.display.Javascript object>"
            ],
            "application/javascript": [
              "download(\"download_c32f5f21-c476-433c-9d52-2e9ace95f81e\", \"pug-or-whippet-mobilenet.keras\", 13434317)"
            ]
          },
          "metadata": {}
        },
        {
          "output_type": "display_data",
          "data": {
            "text/plain": [
              "<IPython.core.display.Javascript object>"
            ],
            "application/javascript": [
              "\n",
              "    async function download(id, filename, size) {\n",
              "      if (!google.colab.kernel.accessAllowed) {\n",
              "        return;\n",
              "      }\n",
              "      const div = document.createElement('div');\n",
              "      const label = document.createElement('label');\n",
              "      label.textContent = `Downloading \"${filename}\": `;\n",
              "      div.appendChild(label);\n",
              "      const progress = document.createElement('progress');\n",
              "      progress.max = size;\n",
              "      div.appendChild(progress);\n",
              "      document.body.appendChild(div);\n",
              "\n",
              "      const buffers = [];\n",
              "      let downloaded = 0;\n",
              "\n",
              "      const channel = await google.colab.kernel.comms.open(id);\n",
              "      // Send a message to notify the kernel that we're ready.\n",
              "      channel.send({})\n",
              "\n",
              "      for await (const message of channel.messages) {\n",
              "        // Send a message to notify the kernel that we're ready.\n",
              "        channel.send({})\n",
              "        if (message.buffers) {\n",
              "          for (const buffer of message.buffers) {\n",
              "            buffers.push(buffer);\n",
              "            downloaded += buffer.byteLength;\n",
              "            progress.value = downloaded;\n",
              "          }\n",
              "        }\n",
              "      }\n",
              "      const blob = new Blob(buffers, {type: 'application/binary'});\n",
              "      const a = document.createElement('a');\n",
              "      a.href = window.URL.createObjectURL(blob);\n",
              "      a.download = filename;\n",
              "      div.appendChild(a);\n",
              "      a.click();\n",
              "      div.remove();\n",
              "    }\n",
              "  "
            ]
          },
          "metadata": {}
        },
        {
          "output_type": "display_data",
          "data": {
            "text/plain": [
              "<IPython.core.display.Javascript object>"
            ],
            "application/javascript": [
              "download(\"download_2a56b2df-4db6-42c9-a1af-d2c7d4aa8ef4\", \"augmented-data-pug-or-whippet-mobilenet.keras\", 13434339)"
            ]
          },
          "metadata": {}
        }
      ],
      "source": [
        "\n",
        "model.save(f'{class_names[0]}-or-{class_names[1]}-mobilenet.keras')\n",
        "from google.colab import files\n",
        "files.download(f'{class_names[0]}-or-{class_names[1]}-mobilenet.keras')\n",
        "\n",
        "augmented_data_model.save(f'augmented-data-{class_names[0]}-or-{class_names[1]}-mobilenet.keras')\n",
        "from google.colab import files\n",
        "files.download(f'augmented-data-{class_names[0]}-or-{class_names[1]}-mobilenet.keras')"
      ]
    },
    {
      "cell_type": "markdown",
      "metadata": {
        "id": "osJeeCZIRYM2"
      },
      "source": [
        "Loads test images, preprocesses them, and makes predictions using both the original and augmented data models. It then prints out the predicted class (\"poodle\" or \"maltese\") for each test image."
      ]
    },
    {
      "cell_type": "code",
      "execution_count": 19,
      "metadata": {
        "colab": {
          "base_uri": "https://localhost:8080/"
        },
        "id": "wfboJcavUzO-",
        "outputId": "6655d34f-9d57-44d4-a540-c4158a4ced5e"
      },
      "outputs": [
        {
          "output_type": "stream",
          "name": "stdout",
          "text": [
            "\u001b[1m1/1\u001b[0m \u001b[32m━━━━━━━━━━━━━━━━━━━━\u001b[0m\u001b[37m\u001b[0m \u001b[1m0s\u001b[0m 57ms/step\n",
            "\u001b[1m1/1\u001b[0m \u001b[32m━━━━━━━━━━━━━━━━━━━━\u001b[0m\u001b[37m\u001b[0m \u001b[1m0s\u001b[0m 102ms/step\n",
            "Prediction: pug.jpg is pug\n",
            "Augmented data prediction: pug.jpg is whippet\n",
            "\u001b[1m1/1\u001b[0m \u001b[32m━━━━━━━━━━━━━━━━━━━━\u001b[0m\u001b[37m\u001b[0m \u001b[1m0s\u001b[0m 100ms/step\n",
            "\u001b[1m1/1\u001b[0m \u001b[32m━━━━━━━━━━━━━━━━━━━━\u001b[0m\u001b[37m\u001b[0m \u001b[1m0s\u001b[0m 92ms/step\n",
            "Prediction: whippet.jpg is pug\n",
            "Augmented data prediction: whippet.jpg is whippet\n"
          ]
        }
      ],
      "source": [
        "import os\n",
        "from keras.preprocessing import image\n",
        "import numpy as np\n",
        "\n",
        "test_dir = '/content/maltese-or-poodle/test2'\n",
        "test_paths = os.listdir(test_dir)\n",
        "for path in test_paths:\n",
        "  test_image = image.load_img(f'{test_dir}/{path}', target_size = (224, 224))\n",
        "\n",
        "  test_image = image.img_to_array(test_image)\n",
        "  test_image = np.expand_dims(test_image, axis = 0)\n",
        "  test_image = test_image/255\n",
        "\n",
        "  result = model.predict(test_image)\n",
        "  augmented_data_result = augmented_data_model.predict(test_image)\n",
        "\n",
        "  if result[0][0] > 0.5:\n",
        "      prediction = class_names[0]\n",
        "  else:\n",
        "      prediction = class_names[1]\n",
        "\n",
        "  if augmented_data_result[0][0] > 0.5:\n",
        "      augmentedData_prediction = class_names[0]\n",
        "  else:\n",
        "      augmentedData_prediction = class_names[1]\n",
        "\n",
        "  print(f'Prediction: {path} is {prediction}')\n",
        "  print(f'Augmented data prediction: {path} is {augmentedData_prediction}')"
      ]
    },
    {
      "cell_type": "markdown",
      "metadata": {
        "id": "4zfyjo_URweC"
      },
      "source": [
        "Generates a line graph comparing the training and validation accuracy of two models (one trained with original data and the other with augmented data) across multiple epochs, helping to visualize the performance differences between them."
      ]
    },
    {
      "cell_type": "code",
      "execution_count": 17,
      "metadata": {
        "colab": {
          "base_uri": "https://localhost:8080/",
          "height": 410
        },
        "id": "-xLzd3MdnRc9",
        "outputId": "6ed3565b-8d45-4709-8417-7aa1e983d210"
      },
      "outputs": [
        {
          "output_type": "display_data",
          "data": {
            "text/plain": [
              "<Figure size 1600x400 with 2 Axes>"
            ],
            "image/png": "[encoded data removed]"
          },
          "metadata": {}
        }
      ],
      "source": [
        "import matplotlib.pyplot as plt\n",
        "\n",
        "val_loss = history.history['val_loss']\n",
        "val_accuracy = history.history['val_accuracy']\n",
        "\n",
        "augmented_data_val_loss = augmented_data_history.history['val_loss']\n",
        "augmented_data_val_accuracy = augmented_data_history.history['val_accuracy']\n",
        "\n",
        "fig = plt.figure(figsize=(16,4))\n",
        "ax = fig.add_subplot(121)\n",
        "ax.plot(val_loss)\n",
        "ax.plot(augmented_data_val_loss)\n",
        "ax.set_title(\"Validation Loss\")\n",
        "ax.set_xlabel(\"Epochs\")\n",
        "\n",
        "ax2 = fig.add_subplot(122)\n",
        "ax2.plot(val_accuracy)\n",
        "ax2.plot(augmented_data_val_accuracy)\n",
        "ax2.set_title(\"Validation Accuracy\")\n",
        "ax2.set_xlabel(\"Epochs\")\n",
        "ax2.set_ylim(0, 1)\n",
        "\n",
        "plt.show()"
      ]
    }
  ],
  "metadata": {
    "colab": {
      "provenance": [],
      "authorship_tag": "ABX9TyODAinfz2NANWW00eooFcjm",
      "include_colab_link": true
    },
    "kernelspec": {
      "display_name": "Python 3",
      "name": "python3"
    },
    "language_info": {
      "name": "python"
    }
  },
  "nbformat": 4,
  "nbformat_minor": 0
}